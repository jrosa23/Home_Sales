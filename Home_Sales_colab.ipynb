{
  "cells": [
    {
      "cell_type": "code",
      "execution_count": 3,
      "metadata": {
        "colab": {
          "base_uri": "https://localhost:8080/"
        },
        "id": "a_KW73O2e3dw",
        "outputId": "6dc34bc8-987f-4bc3-e336-a8b14935bbe1"
      },
      "outputs": [
        {
          "name": "stdout",
          "output_type": "stream",
          "text": [
            "\r0% [Working]\r            \rHit:1 https://cloud.r-project.org/bin/linux/ubuntu jammy-cran40/ InRelease\n",
            "\r0% [Connecting to archive.ubuntu.com (185.125.190.81)] [Connecting to security.ubuntu.com (185.125.1\r                                                                                                    \rHit:2 https://developer.download.nvidia.com/compute/cuda/repos/ubuntu2204/x86_64  InRelease\n",
            "\r0% [Connecting to archive.ubuntu.com (185.125.190.81)] [Waiting for headers] [Waiting for headers] [\r                                                                                                    \rHit:3 http://security.ubuntu.com/ubuntu jammy-security InRelease\n",
            "Hit:4 https://r2u.stat.illinois.edu/ubuntu jammy InRelease\n",
            "Hit:5 http://archive.ubuntu.com/ubuntu jammy InRelease\n",
            "Hit:6 http://archive.ubuntu.com/ubuntu jammy-updates InRelease\n",
            "Hit:7 http://archive.ubuntu.com/ubuntu jammy-backports InRelease\n",
            "Hit:8 https://ppa.launchpadcontent.net/deadsnakes/ppa/ubuntu jammy InRelease\n",
            "Hit:9 https://ppa.launchpadcontent.net/graphics-drivers/ppa/ubuntu jammy InRelease\n",
            "Hit:10 https://ppa.launchpadcontent.net/ubuntugis/ppa/ubuntu jammy InRelease\n",
            "Reading package lists... Done\n",
            "W: Skipping acquire of configured file 'main/source/Sources' as repository 'https://r2u.stat.illinois.edu/ubuntu jammy InRelease' does not seem to provide it (sources.list entry misspelt?)\n"
          ]
        }
      ],
      "source": [
        "import os\n",
        "# Find the latest version of spark 3.x  from http://www.apache.org/dist/spark/ and enter as the spark version\n",
        "# For example:\n",
        "# spark_version = 'spark-3.5.3'\n",
        "spark_version = 'spark-3.5.5'\n",
        "os.environ['SPARK_VERSION']=spark_version\n",
        "\n",
        "# Install Spark and Java\n",
        "!apt-get update\n",
        "!apt-get install openjdk-11-jdk-headless -qq > /dev/null\n",
        "!wget -q http://www.apache.org/dist/spark/$SPARK_VERSION/$SPARK_VERSION-bin-hadoop3.tgz\n",
        "!tar xf $SPARK_VERSION-bin-hadoop3.tgz\n",
        "!pip install -q findspark\n",
        "\n",
        "# Set Environment Variables\n",
        "os.environ[\"JAVA_HOME\"] = \"/usr/lib/jvm/java-11-openjdk-amd64\"\n",
        "os.environ[\"SPARK_HOME\"] = f\"/content/{spark_version}-bin-hadoop3\"\n",
        "\n",
        "# Start a SparkSession\n",
        "import findspark\n",
        "findspark.init()"
      ]
    },
    {
      "cell_type": "code",
      "execution_count": 4,
      "metadata": {
        "id": "2XbWNf1Te5fM"
      },
      "outputs": [],
      "source": [
        "# Import packages\n",
        "from pyspark.sql import SparkSession\n",
        "import time\n",
        "\n",
        "# Create a SparkSession\n",
        "spark = SparkSession.builder.appName(\"SparkSQL\").getOrCreate()"
      ]
    },
    {
      "cell_type": "code",
      "execution_count": 5,
      "metadata": {
        "id": "wOJqxG_RPSwp"
      },
      "outputs": [],
      "source": [
        "# 1. Read the home_sales_revised.csv from the provided AWS S3 bucket location into a PySpark DataFrame.\n",
        "from pyspark import SparkFiles\n",
        "url = \"https://2u-data-curriculum-team.s3.amazonaws.com/dataviz-classroom/v1.2/22-big-data/home_sales_revised.csv\"\n"
      ]
    },
    {
      "cell_type": "code",
      "execution_count": 6,
      "metadata": {
        "colab": {
          "base_uri": "https://localhost:8080/"
        },
        "id": "RoljcJ7WPpnm",
        "outputId": "d9691d6b-81f7-4aff-fd7a-73bac295a100"
      },
      "outputs": [
        {
          "name": "stdout",
          "output_type": "stream",
          "text": [
            "+--------------------+----------+----------+------+--------+---------+-----------+--------+------+----------+----+\n",
            "|                  id|      date|date_built| price|bedrooms|bathrooms|sqft_living|sqft_lot|floors|waterfront|view|\n",
            "+--------------------+----------+----------+------+--------+---------+-----------+--------+------+----------+----+\n",
            "|f8a53099-ba1c-47d...|2022-04-08|      2016|936923|       4|        3|       3167|   11733|     2|         1|  76|\n",
            "|7530a2d8-1ae3-451...|2021-06-13|      2013|379628|       2|        2|       2235|   14384|     1|         0|  23|\n",
            "|43de979c-0bf0-4c9...|2019-04-12|      2014|417866|       2|        2|       2127|   10575|     2|         0|   0|\n",
            "|b672c137-b88c-48b...|2019-10-16|      2016|239895|       2|        2|       1631|   11149|     2|         0|   0|\n",
            "|e0726d4d-d595-407...|2022-01-08|      2017|424418|       3|        2|       2249|   13878|     2|         0|   4|\n",
            "+--------------------+----------+----------+------+--------+---------+-----------+--------+------+----------+----+\n",
            "only showing top 5 rows\n",
            "\n"
          ]
        }
      ],
      "source": [
        "# 2. Create a temporary view of the DataFrame.\n",
        "spark.sparkContext.addFile(url)\n",
        "home_sales_df = spark.read.csv(\"file://\" + SparkFiles.get(\"home_sales_revised.csv\"), header=True, inferSchema=True)\n",
        "home_sales_df.createOrReplaceTempView(\"home_sales\")\n",
        "home_sales_df.show(5)"
      ]
    },
    {
      "cell_type": "code",
      "execution_count": 44,
      "metadata": {
        "colab": {
          "base_uri": "https://localhost:8080/"
        },
        "id": "L6fkwOeOmqvq",
        "outputId": "d045bc5a-d982-4de6-ee1d-c5ae1855a70c"
      },
      "outputs": [
        {
          "name": "stdout",
          "output_type": "stream",
          "text": [
            "+----+-----------+\n",
            "|year|  avg_price|\n",
            "+----+-----------+\n",
            "|2010|$296,800.75|\n",
            "|2011|$302,141.90|\n",
            "|2012|$298,233.42|\n",
            "|2013|$299,999.39|\n",
            "|2014|$299,073.89|\n",
            "|2015|$307,908.86|\n",
            "|2016|$296,050.24|\n",
            "|2017|$296,576.69|\n",
            "+----+-----------+\n",
            "\n"
          ]
        }
      ],
      "source": [
        "from pyspark.sql.functions import expr\n",
        "# 3. What is the average price for a four bedroom house sold per year, rounded to two decimal places?\n",
        "home_sales_avg_price = spark.sql(\"\"\"\n",
        "Select date_built as year, CONCAT('$', format_number(avg_price,2)) as avg_price\n",
        "from(\n",
        "    SELECT date_built, ROUND(AVG(price), 2) AS avg_price\n",
        "    FROM home_sales\n",
        "    WHERE bedrooms = 4\n",
        "    GROUP BY date_built\n",
        "    ORDER BY date_built\n",
        ") as subquery\n",
        "order by year\n",
        "\"\"\")\n",
        "home_sales_avg_price.show()\n"
      ]
    },
    {
      "cell_type": "code",
      "execution_count": 39,
      "metadata": {
        "colab": {
          "base_uri": "https://localhost:8080/"
        },
        "id": "l8p_tUS8h8it",
        "outputId": "d5fde0fc-a9ee-462f-e82b-bae4c58a9e6d"
      },
      "outputs": [
        {
          "name": "stdout",
          "output_type": "stream",
          "text": [
            "+----+-----------+\n",
            "|year|  avg_price|\n",
            "+----+-----------+\n",
            "|2010|$292,859.62|\n",
            "|2011|$291,117.47|\n",
            "|2012|$293,683.19|\n",
            "|2013|$295,962.27|\n",
            "|2014|$290,852.27|\n",
            "|2015|$288,770.30|\n",
            "|2016|$290,555.07|\n",
            "|2017|$292,676.79|\n",
            "+----+-----------+\n",
            "\n"
          ]
        }
      ],
      "source": [
        "# 4. What is the average price of a home for each year the home was built,\n",
        "# that have 3 bedrooms and 3 bathrooms, rounded to two decimal places?\n",
        "home_sales_avg_price_built = spark.sql(\"\"\"\n",
        "    SELECT date_built as year,CONCAT('$', FORMAT_NUMBER(avg_price, 2)) AS avg_price\n",
        "    FROM (\n",
        "        SELECT date_built, ROUND(AVG(price), 2) AS avg_price\n",
        "        FROM home_sales\n",
        "        WHERE bedrooms = 3 AND bathrooms = 3\n",
        "        GROUP BY date_built\n",
        "    ) AS subquery\n",
        "    ORDER BY year\n",
        "\"\"\")\n",
        "home_sales_avg_price_built.show()\n"
      ]
    },
    {
      "cell_type": "code",
      "execution_count": 41,
      "metadata": {
        "colab": {
          "base_uri": "https://localhost:8080/"
        },
        "id": "Y-Eytz64liDU",
        "outputId": "6a8b1d16-b21d-4bfd-bd55-e147b619cd52"
      },
      "outputs": [
        {
          "name": "stdout",
          "output_type": "stream",
          "text": [
            "+----+-----------+\n",
            "|year|  avg_price|\n",
            "+----+-----------+\n",
            "|2010|$285,010.22|\n",
            "|2011|$276,553.81|\n",
            "|2012|$307,539.97|\n",
            "|2013|$303,676.79|\n",
            "|2014|$298,264.72|\n",
            "|2015|$297,609.97|\n",
            "|2016|$293,965.10|\n",
            "|2017|$280,317.58|\n",
            "+----+-----------+\n",
            "\n"
          ]
        }
      ],
      "source": [
        "# 5. What is the average price of a home for each year the home was built,\n",
        "# that have 3 bedrooms, 3 bathrooms, with two floors,\n",
        "# and are greater than or equal to 2,000 square feet, rounded to two decimal places?\n",
        "query = \"\"\"\n",
        "  Select date_built as year, concat('$', format_number(avg_price, 2)) AS avg_price\n",
        "  from (\n",
        "    select date_built, round(avg(price), 2) as avg_price\n",
        "    from home_sales\n",
        "    where bedrooms = 3\n",
        "    and bathrooms = 3\n",
        "    and floors = 2\n",
        "    and sqft_living >= 2000\n",
        "    group by date_built\n",
        "  ) as subquery\n",
        "  order by year\n",
        "\"\"\"\n",
        "spark.sql(query).show()"
      ]
    },
    {
      "cell_type": "code",
      "execution_count": 46,
      "metadata": {
        "colab": {
          "base_uri": "https://localhost:8080/"
        },
        "id": "GUrfgOX1pCRd",
        "outputId": "de484d01-111f-4eae-edbc-2b9aede6649d"
      },
      "outputs": [
        {
          "name": "stdout",
          "output_type": "stream",
          "text": [
            "+----+----+-------------+\n",
            "|view|year|    avg_price|\n",
            "+----+----+-------------+\n",
            "| 100|2013|$1,321,942.00|\n",
            "| 100|2014|$1,048,368.75|\n",
            "| 100|2017|  $805,038.00|\n",
            "| 100|2011|  $973,403.00|\n",
            "| 100|2010|$1,040,832.50|\n",
            "| 100|2015|  $716,333.50|\n",
            "| 100|2016|$1,154,589.25|\n",
            "| 100|2012|$1,069,511.25|\n",
            "|  99|2010|$1,046,322.25|\n",
            "|  99|2015|  $959,850.80|\n",
            "|  99|2014|  $979,975.50|\n",
            "|  99|2017|$1,107,391.00|\n",
            "|  99|2016|$1,105,896.50|\n",
            "|  99|2012|  $992,771.50|\n",
            "|  99|2013|$1,286,284.50|\n",
            "|  99|2011|$1,158,352.67|\n",
            "|  98|2016|$1,202,241.00|\n",
            "|  98|2012|$1,121,207.00|\n",
            "|  98|2013|  $998,008.40|\n",
            "|  98|2011|  $991,078.00|\n",
            "+----+----+-------------+\n",
            "only showing top 20 rows\n",
            "\n",
            "--- 0.00010228157043457031 seconds ---\n"
          ]
        }
      ],
      "source": [
        "# 6. What is the average price of a home per \"view\" rating, rounded to two decimal places,\n",
        "# having an average home price greater than or equal to $350,000? Order by descending view rating.\n",
        "# Although this is a small dataset, determine the run time for this query.\n",
        "query = \"\"\"\n",
        "     Select view, date_built as year, concat('$', format_number(avg_price, 2)) AS avg_price\n",
        "     from (\n",
        "            select view, date_built, round(avg(price), 2) as avg_price\n",
        "            from home_sales\n",
        "            group by view, date_built\n",
        "            having avg_price >= 350000\n",
        "          ) as subquery\n",
        "    order by view desc\n",
        "\"\"\"\n",
        "spark.sql(query).show()\n",
        "\n",
        "start_time = time.time()\n",
        "print(\"--- %s seconds ---\" % (time.time() - start_time))"
      ]
    },
    {
      "cell_type": "code",
      "execution_count": 47,
      "metadata": {
        "colab": {
          "base_uri": "https://localhost:8080/"
        },
        "id": "KAhk3ZD2tFy8",
        "outputId": "c020f20f-2ed7-4e70-dd57-1e930429c69a"
      },
      "outputs": [
        {
          "data": {
            "text/plain": [
              "DataFrame[]"
            ]
          },
          "execution_count": 47,
          "metadata": {},
          "output_type": "execute_result"
        }
      ],
      "source": [
        "# 7. Cache the the temporary table home_sales.\n",
        "spark.sql(\"CACHE TABLE home_sales\")"
      ]
    },
    {
      "cell_type": "code",
      "execution_count": 48,
      "metadata": {
        "colab": {
          "base_uri": "https://localhost:8080/"
        },
        "id": "4opVhbvxtL-i",
        "outputId": "a250e069-8e54-40aa-b150-1e375a903b5c"
      },
      "outputs": [
        {
          "data": {
            "text/plain": [
              "True"
            ]
          },
          "execution_count": 48,
          "metadata": {},
          "output_type": "execute_result"
        }
      ],
      "source": [
        "# 8. Check if the table is cached.\n",
        "spark.catalog.isCached('home_sales')"
      ]
    },
    {
      "cell_type": "code",
      "execution_count": 49,
      "metadata": {
        "colab": {
          "base_uri": "https://localhost:8080/"
        },
        "id": "5GnL46lwTSEk",
        "outputId": "7ccff7db-5536-42b3-fdbb-2c37ac654730"
      },
      "outputs": [
        {
          "name": "stdout",
          "output_type": "stream",
          "text": [
            "+----+----+-------------+\n",
            "|view|year|    avg_price|\n",
            "+----+----+-------------+\n",
            "| 100|2013|$1,321,942.00|\n",
            "| 100|2014|$1,048,368.75|\n",
            "| 100|2017|  $805,038.00|\n",
            "| 100|2011|  $973,403.00|\n",
            "| 100|2010|$1,040,832.50|\n",
            "| 100|2015|  $716,333.50|\n",
            "| 100|2016|$1,154,589.25|\n",
            "| 100|2012|$1,069,511.25|\n",
            "|  99|2010|$1,046,322.25|\n",
            "|  99|2015|  $959,850.80|\n",
            "|  99|2014|  $979,975.50|\n",
            "|  99|2017|$1,107,391.00|\n",
            "|  99|2016|$1,105,896.50|\n",
            "|  99|2012|  $992,771.50|\n",
            "|  99|2013|$1,286,284.50|\n",
            "|  99|2011|$1,158,352.67|\n",
            "|  98|2016|$1,202,241.00|\n",
            "|  98|2012|$1,121,207.00|\n",
            "|  98|2013|  $998,008.40|\n",
            "|  98|2011|  $991,078.00|\n",
            "+----+----+-------------+\n",
            "only showing top 20 rows\n",
            "\n",
            "--- 9.1552734375e-05 seconds ---\n"
          ]
        }
      ],
      "source": [
        "# 9. Using the cached data, run the last query above, that calculates\n",
        "# the average price of a home per \"view\" rating, rounded to two decimal places,\n",
        "# having an average home price greater than or equal to $350,000.\n",
        "# Determine the runtime and compare it to the uncached runtime.\n",
        "query = \"\"\"\n",
        "     Select view, date_built as year, concat('$', format_number(avg_price, 2)) AS avg_price\n",
        "     from (\n",
        "            select view, date_built, round(avg(price), 2) as avg_price\n",
        "            from home_sales\n",
        "            group by view, date_built\n",
        "            having avg_price >= 350000\n",
        "          ) as subquery\n",
        "    order by view desc\n",
        "\"\"\"\n",
        "spark.sql(query).show()\n",
        "\n",
        "start_time = time.time()\n",
        "print(\"--- %s seconds ---\" % (time.time() - start_time))\n"
      ]
    },
    {
      "cell_type": "code",
      "execution_count": 50,
      "metadata": {
        "id": "Qm12WN9isHBR"
      },
      "outputs": [],
      "source": [
        "# 10. Partition by the \"date_built\" field on the formatted parquet home sales data\n",
        "partitioned_data = home_sales_df.write.partitionBy(\"date_built\").parquet(\"home_sales_partitioned.parquet\")"
      ]
    },
    {
      "cell_type": "code",
      "execution_count": 57,
      "metadata": {
        "id": "AZ7BgY61sRqY"
      },
      "outputs": [],
      "source": [
        "# 11. Read the parquet formatted data.\n",
        "parquet_df = spark.read.parquet(\"home_sales_partitioned.parquet\")"
      ]
    },
    {
      "cell_type": "code",
      "execution_count": 72,
      "metadata": {
        "id": "J6MJkHfvVcvh"
      },
      "outputs": [],
      "source": [
        "# 12. Create a temporary table for the parquet data.\n",
        "temp_df = parquet_df.createOrReplaceTempView(\"home_sales_parquet\")"
      ]
    },
    {
      "cell_type": "code",
      "execution_count": 73,
      "metadata": {
        "colab": {
          "base_uri": "https://localhost:8080/"
        },
        "id": "G_Vhb52rU1Sn",
        "outputId": "e4730119-7b04-43ed-e915-acdfe30e1666"
      },
      "outputs": [
        {
          "name": "stdout",
          "output_type": "stream",
          "text": [
            "+----+----+-------------+\n",
            "|view|year|    avg_price|\n",
            "+----+----+-------------+\n",
            "| 100|2014|$1,048,368.75|\n",
            "| 100|2015|  $716,333.50|\n",
            "| 100|2017|  $805,038.00|\n",
            "| 100|2012|$1,069,511.25|\n",
            "| 100|2011|  $973,403.00|\n",
            "+----+----+-------------+\n",
            "only showing top 5 rows\n",
            "\n",
            "--- 8.487701416015625e-05 seconds ---\n"
          ]
        }
      ],
      "source": [
        "# 13. Using the parquet DataFrame, run the last query above, that calculates\n",
        "# the average price of a home per \"view\" rating, rounded to two decimal places,\n",
        "# having an average home price greater than or equal to $350,000.\n",
        "# Determine the runtime and compare it to the cached runtime.\n",
        "temp_df = spark.sql(\"\"\"\n",
        "     Select view, date_built as year, concat('$', format_number(avg_price, 2)) AS avg_price\n",
        "     from (\n",
        "            select view, date_built, round(avg(price), 2) as avg_price\n",
        "            from home_sales_parquet\n",
        "            group by view, date_built\n",
        "            having avg_price >= 350000\n",
        "          ) as subquery\n",
        "    order by view desc\n",
        "\"\"\")\n",
        "temp_df.show(5)\n",
        "\n",
        "start_time = time.time()\n",
        "print(\"--- %s seconds ---\" % (time.time() - start_time))"
      ]
    },
    {
      "cell_type": "code",
      "execution_count": 74,
      "metadata": {
        "id": "hjjYzQGjtbq8"
      },
      "outputs": [],
      "source": [
        "# 14. Uncache the home_sales temporary table.\n",
        "temp_df = spark.sql(\"UNCACHE TABLE home_sales\")"
      ]
    },
    {
      "cell_type": "code",
      "execution_count": 75,
      "metadata": {
        "id": "Sy9NBvO7tlmm"
      },
      "outputs": [],
      "source": [
        "# 15. Check if the home_sales is no longer cached\n",
        "temp_df = spark.catalog.isCached('home_sales')"
      ]
    },
    {
      "cell_type": "code",
      "execution_count": null,
      "metadata": {
        "id": "Si-BNruRUGK3"
      },
      "outputs": [],
      "source": []
    }
  ],
  "metadata": {
    "colab": {
      "provenance": []
    },
    "gpuClass": "standard",
    "kernelspec": {
      "display_name": "Python 3 (ipykernel)",
      "language": "python",
      "name": "python3"
    },
    "language_info": {
      "codemirror_mode": {
        "name": "ipython",
        "version": 3
      },
      "file_extension": ".py",
      "mimetype": "text/x-python",
      "name": "python",
      "nbconvert_exporter": "python",
      "pygments_lexer": "ipython3",
      "version": "3.10.4"
    },
    "nteract": {
      "version": "0.28.0"
    }
  },
  "nbformat": 4,
  "nbformat_minor": 0
}
